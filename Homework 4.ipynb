{
 "cells": [
  {
   "cell_type": "code",
   "execution_count": 30,
   "metadata": {},
   "outputs": [],
   "source": [
    "import numpy as np\n",
    "from matplotlib import pyplot as plt\n",
    "import scipy.io\n",
    "from scipy import special"
   ]
  },
  {
   "cell_type": "code",
   "execution_count": 82,
   "metadata": {},
   "outputs": [
    {
     "data": {
      "text/plain": [
       "{'__header__': b'MATLAB 5.0 MAT-file Platform: posix, Created on: Fri Feb 23 17:22:16 2024',\n",
       " '__version__': '1.0',\n",
       " '__globals__': [],\n",
       " 'y': array([[1.],\n",
       "        [0.],\n",
       "        [1.],\n",
       "        ...,\n",
       "        [0.],\n",
       "        [0.],\n",
       "        [0.]]),\n",
       " 'X': array([[ 8.6 ,  0.42,  0.39, ...,  0.69, 11.7 ,  0.8 ],\n",
       "        [ 8.2 ,  0.3 ,  0.44, ...,  0.33, 12.  ,  0.6 ],\n",
       "        [10.8 ,  0.32,  0.44, ...,  0.78, 10.  ,  0.6 ],\n",
       "        ...,\n",
       "        [ 6.2 ,  0.28,  0.33, ...,  0.5 , 12.1 ,  0.6 ],\n",
       "        [ 6.1 ,  0.41,  0.24, ...,  0.5 , 10.4 ,  0.6 ],\n",
       "        [ 7.3 ,  0.19,  0.68, ...,  0.64,  9.4 ,  0.6 ]]),\n",
       " 'description': array(['fixed acidity       ', 'volatile acidity    ',\n",
       "        'citric acid         ', 'residual sugar      ',\n",
       "        'chlorides           ', 'free sulfur dioxide ',\n",
       "        'total sulfur dioxide', 'density             ',\n",
       "        'pH                  ', 'sulphates           ',\n",
       "        'alcohol             ', 'quality             '], dtype='<U20'),\n",
       " 'X_test': array([[ 6.5 ,  0.18,  0.33, ...,  0.44,  8.7 ,  0.7 ],\n",
       "        [ 7.4 ,  0.15,  0.42, ...,  0.6 , 10.4 ,  0.6 ],\n",
       "        [ 7.3 ,  0.24,  0.41, ...,  0.43,  9.7 ,  0.5 ],\n",
       "        ...,\n",
       "        [ 6.3 ,  0.14,  0.39, ...,  0.53, 10.3 ,  0.6 ],\n",
       "        [ 6.8 ,  0.81,  0.05, ...,  0.66, 10.8 ,  0.6 ],\n",
       "        [ 6.9 ,  0.21,  0.62, ...,  0.59, 10.2 ,  0.6 ]])}"
      ]
     },
     "execution_count": 82,
     "metadata": {},
     "output_type": "execute_result"
    }
   ],
   "source": [
    "#We will now implement l2 regularized logistic regression\n",
    "\n",
    "#Load data\n",
    "\n",
    "pre_data = scipy.io.loadmat('data.mat')\n",
    "pre_data"
   ]
  },
  {
   "cell_type": "code",
   "execution_count": 118,
   "metadata": {},
   "outputs": [],
   "source": [
    "#First normalize all features to have zero mean and unit stdev\n",
    "\n",
    "data = (pre_data['X']-np.mean(pre_data['X'],0))/np.std(pre_data['X'],0)\n",
    "\n",
    "#Add fictitious dimension for affine parameter\n",
    "\n",
    "data = np.vstack((data.T,1+np.zeros(5000))).T"
   ]
  },
  {
   "cell_type": "code",
   "execution_count": 254,
   "metadata": {},
   "outputs": [],
   "source": [
    "#Note the data is already shuffled. Let's pick a training and validation set:\n",
    "\n",
    "y_training = pre_data['y'][:4000]\n",
    "y_val = pre_data['y'][4000:]\n",
    "y_val = np.reshape(y_val,1000)\n",
    "\n",
    "X_training = data[:4000]\n",
    "X_val = data[4000:]"
   ]
  },
  {
   "cell_type": "code",
   "execution_count": 229,
   "metadata": {},
   "outputs": [],
   "source": [
    "#Let's do the regression with batch gradient descent first:\n",
    "\n",
    "def s(v):\n",
    "    return special.expit(v)\n",
    "\n",
    "def train(size,n_iterations,step_size,reg_param):\n",
    "    \n",
    "    w = np.zeros(13)\n",
    "    y_temp = np.reshape(y_training[:size],size)\n",
    "    \n",
    "    for i in range(n_iterations):\n",
    "        temp = y_temp - s(np.matmul(X_training[:size],w))\n",
    "        w += w + step_size * (np.matmul(X_training[:size].T, temp) - 2 * reg_param * w)\n",
    "    return w\n",
    "\n",
    "def loss(i, weights):\n",
    "    reg_prob = np.max([s(np.matmul(X_training[i],weights)),10**-5])\n",
    "    reg_prob2 = np.max([1-s(np.matmul(X_training[i],weights)),10**-5])\n",
    "    return y_training[i][0] * np.log(reg_prob) + (1-y_training[i][0]) * np.log(reg_prob2)\n",
    "    \n",
    "\n",
    "def cost(size,n_iterations,step_size,reg_param):\n",
    "    \n",
    "    c = 0\n",
    "    weights = train(size,n_iterations,step_size,reg_param)\n",
    "    \n",
    "    for i in range(4000):\n",
    "        c -= loss(int(i),weights)\n",
    "    return c\n",
    "        "
   ]
  },
  {
   "cell_type": "code",
   "execution_count": 230,
   "metadata": {},
   "outputs": [],
   "source": [
    "#Cost as a function of number of gradient descent iterations\n",
    "n_iters = [10,100,1000,2000,5000]\n",
    "cost_vec = [cost(4000,j,0.1,5.5) for j in n_iters]"
   ]
  },
  {
   "cell_type": "code",
   "execution_count": 231,
   "metadata": {},
   "outputs": [
    {
     "data": {
      "text/plain": [
       "Text(0, 0.5, 'Cost')"
      ]
     },
     "execution_count": 231,
     "metadata": {},
     "output_type": "execute_result"
    },
    {
     "data": {
      "image/png": "[encoded data removed]",
      "text/plain": [
       "<Figure size 432x288 with 1 Axes>"
      ]
     },
     "metadata": {
      "needs_background": "light"
     },
     "output_type": "display_data"
    }
   ],
   "source": [
    "plt.plot(n_iters,cost_vec)\n",
    "plt.xlabel('Number of iterations of batch gradient descent')\n",
    "plt.ylabel('Cost')"
   ]
  },
  {
   "cell_type": "code",
   "execution_count": 232,
   "metadata": {},
   "outputs": [],
   "source": [
    "#Let's now implement stochastic gradient descent instead\n",
    "\n",
    "def train_stochastic(n_iterations,step_size,reg_param):\n",
    "    \n",
    "    w = np.zeros(13)\n",
    "    y_temp = np.reshape(y_training,4000)\n",
    "    \n",
    "    for i in range(n_iterations):\n",
    "        temp = y_temp[i] - s(np.matmul(X_training[i],w))\n",
    "        w += w + step_size * (X_training[i]*temp - 2 * reg_param * w)\n",
    "    return w\n",
    "\n",
    "def cost_stochastic(n_iterations,step_size,reg_param):\n",
    "    \n",
    "    c = 0\n",
    "    weights = train_stochastic(n_iterations,step_size,reg_param)\n",
    "    \n",
    "    for i in range(4000):\n",
    "        c -= loss(int(i),weights)\n",
    "    return c\n",
    "        "
   ]
  },
  {
   "cell_type": "code",
   "execution_count": 233,
   "metadata": {},
   "outputs": [],
   "source": [
    "#Cost as a function of number of gradient descent iterations\n",
    "n_iters_stoc = [10,100,1000,1500,2000,2500,3000,3500]\n",
    "cost_vec_stoc = [cost_stochastic(j,0.1,5.5) for j in n_iters_stoc]"
   ]
  },
  {
   "cell_type": "code",
   "execution_count": 234,
   "metadata": {},
   "outputs": [
    {
     "data": {
      "text/plain": [
       "Text(0, 0.5, 'Cost')"
      ]
     },
     "execution_count": 234,
     "metadata": {},
     "output_type": "execute_result"
    },
    {
     "data": {
      "image/png": "[encoded data removed]",
      "text/plain": [
       "<Figure size 432x288 with 1 Axes>"
      ]
     },
     "metadata": {
      "needs_background": "light"
     },
     "output_type": "display_data"
    }
   ],
   "source": [
    "plt.plot(n_iters_stoc,cost_vec_stoc)\n",
    "plt.xlabel('Number of iterations of stochastic gradient descent')\n",
    "plt.ylabel('Cost')"
   ]
  },
  {
   "cell_type": "code",
   "execution_count": 235,
   "metadata": {},
   "outputs": [],
   "source": [
    "#SGD with a variable step size now\n",
    "\n",
    "def train_stochastic2(n_iterations,step_size,reg_param):\n",
    "    \n",
    "    w = np.zeros(13)\n",
    "    y_temp = np.reshape(y_training,4000)\n",
    "    \n",
    "    for i in range(n_iterations):\n",
    "        temp = y_temp[i] - s(np.matmul(X_training[i],w))\n",
    "        w += w + step_size/(i+1) * (X_training[i]*temp - 2 * reg_param * w)\n",
    "    return w\n",
    "\n",
    "def cost_stochastic2(n_iterations,step_size,reg_param):\n",
    "    \n",
    "    c = 0\n",
    "    weights = train_stochastic2(n_iterations,step_size,reg_param)\n",
    "    \n",
    "    for i in range(4000):\n",
    "        c -= loss(int(i),weights)\n",
    "    return c\n",
    "        "
   ]
  },
  {
   "cell_type": "code",
   "execution_count": 277,
   "metadata": {},
   "outputs": [],
   "source": [
    "#Cost as a function of number of gradient descent iterations\n",
    "n_iters_stoc2 = [10,100,200,300,500,1000]\n",
    "cost_vec_stoc2 = [cost_stochastic2(j,10,1.5) for j in n_iters_stoc2]"
   ]
  },
  {
   "cell_type": "code",
   "execution_count": 278,
   "metadata": {},
   "outputs": [
    {
     "data": {
      "text/plain": [
       "Text(0, 0.5, 'Cost')"
      ]
     },
     "execution_count": 278,
     "metadata": {},
     "output_type": "execute_result"
    },
    {
     "data": {
      "image/png": "[encoded data removed]",
      "text/plain": [
       "<Figure size 432x288 with 1 Axes>"
      ]
     },
     "metadata": {
      "needs_background": "light"
     },
     "output_type": "display_data"
    }
   ],
   "source": [
    "plt.plot(n_iters_stoc2,cost_vec_stoc2)\n",
    "plt.xlabel('Number of iterations of stochastic gradient descent')\n",
    "plt.ylabel('Cost')"
   ]
  },
  {
   "cell_type": "code",
   "execution_count": 282,
   "metadata": {},
   "outputs": [
    {
     "name": "stdout",
     "output_type": "stream",
     "text": [
      "Validation accuracy is 90.0 %\n"
     ]
    }
   ],
   "source": [
    "#Check performance on validation set:\n",
    "\n",
    "best_weights = train_stochastic2(1000,10,1.5)\n",
    "preds = s(np.matmul(X_val,best_weights))\n",
    "\n",
    "acc = np.sum(np.abs(preds-y_val))\n",
    "print(\"Validation accuracy is\", acc, '%')"
   ]
  },
  {
   "cell_type": "code",
   "execution_count": null,
   "metadata": {},
   "outputs": [],
   "source": []
  }
 ],
 "metadata": {
  "kernelspec": {
   "display_name": "Python 3",
   "language": "python",
   "name": "python3"
  },
  "language_info": {
   "codemirror_mode": {
    "name": "ipython",
    "version": 3
   },
   "file_extension": ".py",
   "mimetype": "text/x-python",
   "name": "python",
   "nbconvert_exporter": "python",
   "pygments_lexer": "ipython3",
   "version": "3.7.6"
  }
 },
 "nbformat": 4,
 "nbformat_minor": 4
}
